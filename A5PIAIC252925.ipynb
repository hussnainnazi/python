{
 "cells": [
  {
   "cell_type": "markdown",
   "metadata": {},
   "source": [
    " **Question 1: Ticket Pricing System**"
   ]
  },
  {
   "cell_type": "code",
   "execution_count": 4,
   "metadata": {},
   "outputs": [
    {
     "name": "stdout",
     "output_type": "stream",
     "text": [
      "Ticket is $15 for the 67 year old customer\n",
      "Thanks for our services!\n"
     ]
    }
   ],
   "source": [
    "age = int(input(\"Enter the age of the user! \"))\n",
    "if age < 5:\n",
    "  print(f\"Ticket is free for the {age} year old customer\")\n",
    "elif age >= 5 and age <= 17:\n",
    "  print(f\"Ticket is $10 for the {age} year old customer\")\n",
    "elif age >= 18 and age <= 60:\n",
    "  print(f\"Ticket is $20 for the {age} year old customer\")\n",
    "elif age > 60:\n",
    "  print(f\"Ticket is $15 for the {age} year old customer\")\n",
    "else:\n",
    "  print(\"Invalid age\")\n",
    "print(\"Thanks for our services!\")"
   ]
  },
  {
   "cell_type": "markdown",
   "metadata": {},
   "source": [
    "**Question 2: Meal Recommendation**"
   ]
  },
  {
   "cell_type": "code",
   "execution_count": null,
   "metadata": {},
   "outputs": [
    {
     "name": "stdout",
     "output_type": "stream",
     "text": [
      "The time in 12-hour format is: 5:43 AM\n",
      "Good morning! Breakfast time.\n"
     ]
    }
   ],
   "source": [
    "time_24 = int(input(\"Enter the hour in 24-hour format (0-23): \"))\n",
    "minutes = int(input(\"Enter the minutes (0-59): \"))\n",
    "# Validate the input\n",
    "if 0 <= time_24 <= 23 and 0 <= minutes <= 59:\n",
    "    # Convert the time to 12-hour format\n",
    "    if time_24 == 0:\n",
    "        time_12 = 12\n",
    "        period = \"AM\"\n",
    "    elif 1 <= time_24 <= 11:\n",
    "        time_12 = time_24\n",
    "        period = \"AM\"\n",
    "    elif time_24 == 12:\n",
    "        time_12 = 12\n",
    "        period = \"PM\"\n",
    "    elif 13 <= time_24 <= 23:\n",
    "        time_12 = time_24 - 12\n",
    "        period = \"PM\"\n",
    "    # Print the converted time with minutes\n",
    "    print(f\"The time in 12-hour format is: {time_12}:{minutes} {period}\")\n",
    "    # Meal recommendation\n",
    "    if time_24 >= 5 and time_24 <= 11:\n",
    "        print(\"Good morning! Breakfast time.\")\n",
    "    elif time_24 >= 12 and time_24 <= 16:  # 12 PM to 4 PM\n",
    "        print(\"Good afternoon! Lunch time.\")\n",
    "    elif time_24 >= 17 and time_24 <= 21:  # 5 PM to 9 PM\n",
    "        print(\"Good evening! Dinner time.\")\n",
    "    elif (time_24 >= 22 and time_24 <= 23) or (time_24 >= 0 and time_24 <= 4):  # 10 PM to 4 AM\n",
    "        print(\"Late-night snack time.\")\n",
    "else:\n",
    "    print(\"Invalid input. Please enter a valid time (0-23 for hours and 0-59 for minutes).\")"
   ]
  },
  {
   "cell_type": "markdown",
   "metadata": {},
   "source": [
    "**Question 3: Grocery Bill Calculator**"
   ]
  },
  {
   "cell_type": "code",
   "execution_count": 9,
   "metadata": {},
   "outputs": [
    {
     "name": "stdout",
     "output_type": "stream",
     "text": [
      "Total Bill: $475\n",
      "Discounted Bill: $427.50\n"
     ]
    }
   ],
   "source": [
    "prices_input = input(\"Enter the prices of 5 grocery items, separated by commas (e.g., 20, 30, 10, 25, 40): \")\n",
    "# Convert the input into a list of integers\n",
    "price1, price2, price3, price4, price5 = map(int, prices_input.split(\",\"))\n",
    "total_bill = price1 + price2 + price3 + price4 + price5\n",
    "print(f\"Total Bill: ${total_bill}\")\n",
    "# Apply a 10% discount if the total bill is more than $100\n",
    "if total_bill > 100:\n",
    "    discounted_bill = total_bill * 0.9\n",
    "    print(f\"Discounted Bill: ${discounted_bill:.3f}\")"
   ]
  },
  {
   "cell_type": "markdown",
   "metadata": {},
   "source": [
    "**Question 4: Username Validator**"
   ]
  },
  {
   "cell_type": "code",
   "execution_count": 11,
   "metadata": {},
   "outputs": [
    {
     "name": "stdout",
     "output_type": "stream",
     "text": [
      "Valid username\n"
     ]
    }
   ],
   "source": [
    "username = input(\"Enter your username: \")\n",
    "# Check if the username is between 5 and 15 characters long and starts with a letter\n",
    "if len(username) >= 5 and len(username) <= 15 and username.isalpha():\n",
    "    print(\"Valid username\")\n",
    "else:\n",
    "    print(\"Invalid username\")"
   ]
  },
  {
   "cell_type": "markdown",
   "metadata": {},
   "source": [
    "**Question 5: Travel Destination Suggestion**"
   ]
  },
  {
   "cell_type": "code",
   "execution_count": 14,
   "metadata": {},
   "outputs": [
    {
     "name": "stdout",
     "output_type": "stream",
     "text": [
      "Go to the beach!\n"
     ]
    }
   ],
   "source": [
    "weather = input(\"Enter your preferred weather (Sunny, Rainy, or Snowy): \")\n",
    "# Suggest a travel destination based on the weather\n",
    "if weather.lower() == \"sunny\":\n",
    "    print(\"Go to the beach!\")\n",
    "elif weather.lower() == \"rainy\":\n",
    "    print(\"Visit a cozy mountain lodge!\")\n",
    "elif weather.lower() == \"snowy\":\n",
    "    print(\"Time for a ski trip!\")\n",
    "else:\n",
    "    print(\"Invalid weather choice. Please enter Sunny, Rainy, or Snowy.\")"
   ]
  },
  {
   "cell_type": "markdown",
   "metadata": {},
   "source": [
    "**Question 6: Discount Eligibility Checker**"
   ]
  },
  {
   "cell_type": "code",
   "execution_count": null,
   "metadata": {},
   "outputs": [],
   "source": [
    "total_spent = float(input(\"Enter the total amount spent: \"))\n",
    "loyalty_member = input(\"Are you a loyalty program member? (Yes/No): \").strip().lower()\n",
    "# Check if the user is eligible for the discount\n",
    "if total_spent > 200 or loyalty_member == \"yes\":\n",
    "    print(\"Eligible for a discount\")\n",
    "else:\n",
    "    print(\"Not eligible for a discount\")"
   ]
  },
  {
   "cell_type": "markdown",
   "metadata": {},
   "source": [
    "**Question 7: Event Invitation**"
   ]
  },
  {
   "cell_type": "code",
   "execution_count": 15,
   "metadata": {},
   "outputs": [
    {
     "name": "stdout",
     "output_type": "stream",
     "text": [
      "You are invited!\n"
     ]
    }
   ],
   "source": [
    "guests = [\"Naeem\", \"Talha\", \"ALi\", \"Salman\", \"Awais\"]\n",
    "user_name = input(\"Enter your name: \")\n",
    "# Check if the entered name is in the list of invited guests\n",
    "if user_name in guests:\n",
    "    print(\"You are invited!\")\n",
    "else:\n",
    "    print(\"You are not invited.\")"
   ]
  },
  {
   "cell_type": "markdown",
   "metadata": {},
   "source": [
    "**Question 8: Movie Streaming Eligibility**"
   ]
  },
  {
   "cell_type": "code",
   "execution_count": null,
   "metadata": {},
   "outputs": [],
   "source": [
    "age = int(input(\"Enter your age: \"))\n",
    "movie_type = input(\"Enter the type of movie (Action Movies, Animated Movies, Documentaries): \").strip().lower()\n",
    "if movie_type == \"action movies\":\n",
    "    if age >= 18:\n",
    "        print(\"You can watch Action Movies.\")\n",
    "    else:\n",
    "        print(\"You cannot watch Action Movies. You must be 18 or older.\")\n",
    "elif movie_type == \"animated movies\":\n",
    "    print(\"You can watch Animated Movies.\")\n",
    "elif movie_type == \"documentaries\":\n",
    "    if age >= 12:\n",
    "        print(\"You can watch Documentaries.\")\n",
    "    else:\n",
    "        print(\"You cannot watch Documentaries. You must be 12 or older.\")\n",
    "else:\n",
    "    print(\"Invalid movie type. Please enter a valid movie type.\")"
   ]
  },
  {
   "cell_type": "markdown",
   "metadata": {},
   "source": [
    "**Question 9: Phone Number Formatter**"
   ]
  },
  {
   "cell_type": "code",
   "execution_count": 16,
   "metadata": {},
   "outputs": [
    {
     "name": "stdout",
     "output_type": "stream",
     "text": [
      "Formatted Phone Number: (732) 371-0911\n"
     ]
    }
   ],
   "source": [
    "phone_number = input(\"Enter your phone number (without spaces or dashes, e.g., 1234567890): \")\n",
    "# Check if the phone number is exactly 10 digits\n",
    "if len(phone_number) == 10 and phone_number.isdigit():\n",
    "    # Format the phone number into the standard format\n",
    "    formatted_number = (f\"({phone_number[0:3]}) {phone_number[3:6]}-{phone_number[6:10]}\")\n",
    "    print(f\"Formatted Phone Number: {formatted_number}\")\n",
    "else:\n",
    "    print(\"Invalid phone number. Please enter a 10-digit number.\")"
   ]
  },
  {
   "cell_type": "markdown",
   "metadata": {},
   "source": [
    "**Question 10: Package Shipping Cost**"
   ]
  },
  {
   "cell_type": "code",
   "execution_count": 17,
   "metadata": {},
   "outputs": [
    {
     "name": "stdout",
     "output_type": "stream",
     "text": [
      "Shipping Cost: $50\n"
     ]
    }
   ],
   "source": [
    "weight = float(input(\"Enter the weight of the package (in kg): \"))\n",
    "# Determine the shipping cost based on the weight\n",
    "if weight <= 1:\n",
    "    cost = 5\n",
    "elif weight > 1 and weight <=5 :\n",
    "    cost = 10\n",
    "elif weight > 5 and weight <=20:\n",
    "    cost = 20\n",
    "elif weight > 20:\n",
    "    cost = 50\n",
    "else:\n",
    "    print(\"Invalid input!\")\n",
    "print(f\"Shipping Cost: ${cost}\")"
   ]
  },
  {
   "cell_type": "markdown",
   "metadata": {},
   "source": [
    "**Question 11: Student Grading System**"
   ]
  },
  {
   "cell_type": "code",
   "execution_count": 18,
   "metadata": {},
   "outputs": [
    {
     "name": "stdout",
     "output_type": "stream",
     "text": [
      "Total Marks: 210\n",
      "Percentage: 42.0%\n",
      "Grade: F\n",
      "Result: Failed\n"
     ]
    }
   ],
   "source": [
    "marks1 = int(input(\"Marks in Subject 1: \"))\n",
    "marks2 = int(input(\"Marks in Subject 2: \"))\n",
    "marks3 = int(input(\"Marks in Subject 3: \"))\n",
    "marks4 = int(input(\"Marks in Subject 4: \"))\n",
    "marks5 = int(input(\"Marks in Subject 5: \"))\n",
    "# Calculate the total marks and percentage\n",
    "total_marks = marks1 + marks2 + marks3 + marks4 + marks5\n",
    "percentage = (total_marks / 500) * 100\n",
    "# Determine the grade based on the percentage\n",
    "if percentage >= 90:\n",
    "    grade = 'A'\n",
    "elif percentage >=80 and percentage <= 89:\n",
    "    grade = 'B'\n",
    "elif percentage >=70 and percentage <= 79:\n",
    "    grade = 'C'\n",
    "elif percentage >=60 and percentage <= 6988:\n",
    "    grade = 'D'\n",
    "else:\n",
    "    grade = 'F'\n",
    "# Check if the student passed or failed (passed if all subjects are >= 60%)\n",
    "if marks1 >= 60 and marks2 >= 60 and marks3 >= 60 and marks4 >= 60 and marks5 >= 60:\n",
    "    result = \"Passed\"\n",
    "else:\n",
    "    result = \"Failed\"\n",
    "# Print the total marks, percentage, grade, and result\n",
    "print(f\"Total Marks: {total_marks}\")\n",
    "print(f\"Percentage: {percentage:.1f}%\")\n",
    "print(f\"Grade: {grade}\")\n",
    "print(f\"Result: {result}\")"
   ]
  }
 ],
 "metadata": {
  "kernelspec": {
   "display_name": "Python 3",
   "language": "python",
   "name": "python3"
  },
  "language_info": {
   "codemirror_mode": {
    "name": "ipython",
    "version": 3
   },
   "file_extension": ".py",
   "mimetype": "text/x-python",
   "name": "python",
   "nbconvert_exporter": "python",
   "pygments_lexer": "ipython3",
   "version": "3.13.1"
  }
 },
 "nbformat": 4,
 "nbformat_minor": 2
}
